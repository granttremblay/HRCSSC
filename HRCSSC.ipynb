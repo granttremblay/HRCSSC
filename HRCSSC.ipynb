{
 "cells": [
  {
   "cell_type": "markdown",
   "metadata": {},
   "source": [
    "## An updated investigation into the HRC Byte Shift Anomaly\n",
    "\n",
    "Dan Patnaude & Grant Tremblay | January 2019\n"
   ]
  },
  {
   "cell_type": "markdown",
   "metadata": {},
   "source": [
    "This notebook uses a setup that (for now) is specific to Grant Tremblay's machines. See him if you need help running this on your machine. "
   ]
  },
  {
   "cell_type": "code",
   "execution_count": 1,
   "metadata": {},
   "outputs": [],
   "source": [
    "import os\n",
    "\n",
    "import datetime as dt\n",
    "\n",
    "from astropy.io import fits\n",
    "from astropy.io import ascii\n",
    "from astropy.table import Table\n",
    "\n",
    "import matplotlib.pyplot as plt\n",
    "from matplotlib import dates\n",
    "\n",
    "import numpy as np\n",
    "from scipy.interpolate import spline\n",
    "from scipy.interpolate import interp1d\n",
    "from scipy.signal import hilbert\n",
    "\n",
    "try:\n",
    "    from hrcsentinel import hrccore as hrc\n",
    "except ImportError:\n",
    "    raise ImportError(\n",
    "        \"hrcsentinel required. Download here: \\\n",
    "        https://github.com/granttremblay/HRCsentinel\")"
   ]
  },
  {
   "cell_type": "markdown",
   "metadata": {},
   "source": [
    "#### Working Directories:"
   ]
  },
  {
   "cell_type": "code",
   "execution_count": 4,
   "metadata": {},
   "outputs": [],
   "source": [
    "home_directory = os.path.expanduser(\"~\")\n",
    "msid_directory = home_directory + \"/Dropbox/Work/HRCOps/MSIDCloud/\"\n",
    "\n",
    "figure_save_directory = home_directory + \"/HRCOps/Projects/HRCSSC/figures/\"\n",
    "\n",
    "# Make that directory if it doesn't exist\n",
    "if not os.path.exists(figure_save_directory):\n",
    "    os.mkdir(figure_save_directory)\n",
    "    print(\"Made directory {}\".format(figure_save_directory))"
   ]
  },
  {
   "cell_type": "markdown",
   "metadata": {},
   "source": [
    "#### Preferences"
   ]
  },
  {
   "cell_type": "code",
   "execution_count": 76,
   "metadata": {},
   "outputs": [],
   "source": [
    "rasterized = True"
   ]
  },
  {
   "cell_type": "markdown",
   "metadata": {},
   "source": [
    "Full resolution (e.g. unbinned) MSIDs we (might) care about: "
   ]
  },
  {
   "cell_type": "code",
   "execution_count": 6,
   "metadata": {},
   "outputs": [],
   "source": [
    "\n",
    "msids = [\n",
    "    \"2FE00ATM\",  # Front-end Temperature (c)\n",
    "    \"2LVPLATM\",  # LVPS Plate Temperature (c)\n",
    "    \"2IMHVATM\",  # Imaging Det HVPS Temperature (c)\n",
    "    \"2IMINATM\",  # Imaging Det Temperature (c)\n",
    "    \"2SPHVATM\",  # Spectroscopy Det HVPS Temperature (c)\n",
    "    \"2SPINATM\",  # Spectroscopy Det Temperature (c)\n",
    "    \"2PMT1T\"  ,  # PMT 1 EED Temperature (c)\n",
    "    \"2PMT2T\"  ,  # PMT 2 EED Temperature (c)\n",
    "    \"2DCENTRT\",  # Outdet2 EED Temperature (c)\n",
    "    \"2FHTRMZT\",  # FEABox EED Temperature (c)\n",
    "    \"2CHTRPZT\",  # CEABox EED Temperature (c)\n",
    "    \"2FRADPYT\",  # +Y EED Temperature (c)\n",
    "    \"2CEAHVPT\",  # -Y EED Temperature (c)\n",
    "    \"2CONDMXT\",  # Conduit Temperature (c)\n",
    "    \"2UVLSPXT\",  # Snout Temperature (c)\n",
    "    \"2CE00ATM\",  # CEA Temperature 1 (c) THESE HAVE FEWER POINTS AS THEY WERE RECENTLY ADDED BY TOM\n",
    "    \"2CE01ATM\",  # CEA Temperature 2 (c) THESE HAVE FEWER POINTS AS THEY WERE RECENTLY ADDED BY TOM\n",
    "    \"2FEPRATM\",  # FEA PreAmp (c)\n",
    "    \"2SMTRATM\",  # Selected Motor Temperature (c) THIS IS ALWAYS 5 DEGREES THROUGHOUT ENTIRE MISSION\n",
    "    \"2DTSTATT\"   # OutDet1 Temperature (c)\n",
    "]"
   ]
  },
  {
   "cell_type": "markdown",
   "metadata": {},
   "source": [
    "Read in those MSIDs:"
   ]
  },
  {
   "cell_type": "code",
   "execution_count": 14,
   "metadata": {},
   "outputs": [
    {
     "name": "stdout",
     "output_type": "stream",
     "text": [
      "Reading full VALS for 2FE00ATM\n",
      "Reading full VALS for 2LVPLATM\n",
      "Reading full VALS for 2IMHVATM\n",
      "Reading full VALS for 2IMINATM\n",
      "Reading full VALS for 2SPHVATM\n",
      "Reading full VALS for 2SPINATM\n",
      "Reading full VALS for 2PMT1T\n",
      "Reading full VALS for 2PMT2T\n",
      "Reading full VALS for 2DCENTRT\n",
      "Reading full VALS for 2FHTRMZT\n",
      "Reading full VALS for 2CHTRPZT\n",
      "Reading full VALS for 2FRADPYT\n",
      "Reading full VALS for 2CEAHVPT\n",
      "Reading full VALS for 2CONDMXT\n",
      "Reading full VALS for 2UVLSPXT\n",
      "Reading full VALS for 2CE00ATM\n",
      "Reading full VALS for 2CE01ATM\n",
      "Reading full VALS for 2FEPRATM\n",
      "Reading full VALS for 2SMTRATM\n",
      "Reading full VALS for 2DTSTATT\n"
     ]
    }
   ],
   "source": [
    "data = {}\n",
    "binning = \"full\"\n",
    "valtype = \"vals\"\n",
    "timeperiod = \"pastyear\"\n",
    "\n",
    "for msidname in msids:\n",
    "    print(\"Reading {} {} for {}\".format(binning, valtype.upper(), msidname))\n",
    "    times, values = hrc.parse_generic_msid(msid_directory + \"{}\".format(msidname) + \"_{}_{}.csv\".format(binning, timeperiod), valtype)\n",
    "    #_, stds = hrc.parse_generic_msid(msid_directory + \"{}\".format(msidname) + \"_{}_{}.csv\".format(binning, timeperiod), \"stds\")\n",
    "    data[\"{}_times\".format(msidname)] = times\n",
    "    data[\"{}_values\".format(msidname)] = values\n",
    "    #data[\"{}_stds\".format(msidname)] = stds"
   ]
  },
  {
   "cell_type": "markdown",
   "metadata": {},
   "source": [
    "You can make a quicklook plot like this: "
   ]
  },
  {
   "cell_type": "code",
   "execution_count": 77,
   "metadata": {},
   "outputs": [
    {
     "data": {
      "image/png": "[encoded data removed]",
      "text/plain": [
       "<Figure size 864x576 with 1 Axes>"
      ]
     },
     "metadata": {},
     "output_type": "display_data"
    }
   ],
   "source": [
    "msid = \"2SMTRATM\"\n",
    "\n",
    "outfile = figure_save_directory + '{}.pdf'.format(msid)\n",
    "hrc.dateplot(data['{}_times'.format(msid)], data['{}_values'.format(msid)], ylabel=\"Temperature (C)\", markersize=3.0, save=False, filename=outfile)"
   ]
  },
  {
   "cell_type": "markdown",
   "metadata": {},
   "source": [
    "Read in ```HRC_SS_HK_BAD``` pseudoMSID. Make it into an ```astropy``` for easier access"
   ]
  },
  {
   "cell_type": "code",
   "execution_count": 54,
   "metadata": {},
   "outputs": [],
   "source": [
    "ssc_events = {}\n",
    "\n",
    "ssc_flags_file = msid_directory + \"HRC_SS_HK_BAD_full_pastfiveyears.csv\"\n",
    "ssc_times, ssc_flags = hrc.parse_generic_msid(ssc_flags_file, valtype=\"vals\")\n",
    "\n",
    "ssc_events['SSC_times'] = ssc_times\n",
    "ssc_events['SSC_flags'] = ssc_flags\n",
    "\n",
    "ssc_events_table = Table(ssc_events)\n"
   ]
  },
  {
   "cell_type": "markdown",
   "metadata": {},
   "source": [
    "Invalid HRC SS and HK telemetry can arise in three ways:\n",
    "\n",
    "1. When telemetry format changes there is commanding to change the timing signals used to fill the housekeeping and secondary science rates that can result in invalid data being put in these MSIDs for up to a major frame.\n",
    "\n",
    "2. When detectors change or a detector is set to its default configuration the FIFO used to hold the housekeeping an secondary science data gets reset which may result in a single bad sample of data.\n",
    "\n",
    "3. The secondary-science byte-shift anomaly causes the occasional portion of the housekeeping and sometimes the rate data to be corrupted.\n",
    "In the Ska archive the presence of these conditions is tracked in a new pseudo-MSID called HRC_SS_HK_BAD.\n",
    "\n",
    "The first two of these are detected by looking at “spare” bits in the MSID ```SCIDPREN```. The third condition, which is what we're interested in, is detected by its impact on the MSID ```2SMTRATM```. If it is less than -20degC or greater than 50degC then the analog housekeeping from the row is marked with bad quality. In this case the ```HRC_SS_HK_BAD``` MSID has bit 10 set, which can be detected by a logical-and with ```0x0400 (1024)```.\n",
    "\n",
    "We can therefore count the number of byte-shift anomaly instances over the past three years by creating a simple mask from our ```ssc_events_table```:"
   ]
  },
  {
   "cell_type": "code",
   "execution_count": 63,
   "metadata": {},
   "outputs": [
    {
     "name": "stdout",
     "output_type": "stream",
     "text": [
      "There are 13126 byte shift anomaly events over the past three years.\n"
     ]
    }
   ],
   "source": [
    "byte_shift_mask = ssc_events_table['SSC_flags'] == 1024\n",
    "\n",
    "print(\"There are {} byte shift anomaly events over the past three years.\".format(sum(byte_shift_mask)))"
   ]
  },
  {
   "cell_type": "code",
   "execution_count": 69,
   "metadata": {},
   "outputs": [],
   "source": [
    "byte_shift_times = ssc_events_table[byte_shift_mask]['SSC_times']"
   ]
  },
  {
   "cell_type": "markdown",
   "metadata": {},
   "source": [
    "It is now easy to plot every flagged instance of an HRC byte shift "
   ]
  },
  {
   "cell_type": "code",
   "execution_count": 75,
   "metadata": {},
   "outputs": [
    {
     "data": {
      "image/png": "[encoded data removed]",
      "text/plain": [
       "<Figure size 1152x576 with 1 Axes>"
      ]
     },
     "metadata": {},
     "output_type": "display_data"
    }
   ],
   "source": [
    "#ssccolor = list(plt.rcParams['axes.prop_cycle'])[2]['color']\n",
    "ssccolor = 'gray'\n",
    "\n",
    "fig, ax = plt.subplots(figsize=(16,8))\n",
    "\n",
    "for byte_shift_time in byte_shift_times:\n",
    "    ax.axvline(byte_shift_time, lw=0.5, color=ssccolor, alpha=0.3, rasterized=rasterized)\n",
    "    \n",
    "\n",
    "ax.plot_date(data[\"2SMTRATM_times\"], data[\"2SMTRATM_values\"], rasterized=rasterized)\n",
    "\n",
    "\n",
    "\n",
    "plt.show()\n"
   ]
  },
  {
   "cell_type": "code",
   "execution_count": 39,
   "metadata": {},
   "outputs": [
    {
     "data": {
      "text/plain": [
       "9294479"
      ]
     },
     "execution_count": 39,
     "metadata": {},
     "output_type": "execute_result"
    }
   ],
   "source": [
    "ssc_flags[]"
   ]
  },
  {
   "cell_type": "code",
   "execution_count": 43,
   "metadata": {},
   "outputs": [
    {
     "data": {
      "text/plain": [
       "astropy.table.column.Column"
      ]
     },
     "execution_count": 43,
     "metadata": {},
     "output_type": "execute_result"
    }
   ],
   "source": [
    "type(ssc_flags)"
   ]
  },
  {
   "cell_type": "code",
   "execution_count": null,
   "metadata": {},
   "outputs": [],
   "source": []
  }
 ],
 "metadata": {
  "kernelspec": {
   "display_name": "Python 3",
   "language": "python",
   "name": "python3"
  },
  "language_info": {
   "codemirror_mode": {
    "name": "ipython",
    "version": 3
   },
   "file_extension": ".py",
   "mimetype": "text/x-python",
   "name": "python",
   "nbconvert_exporter": "python",
   "pygments_lexer": "ipython3",
   "version": "3.6.6"
  }
 },
 "nbformat": 4,
 "nbformat_minor": 2
}
